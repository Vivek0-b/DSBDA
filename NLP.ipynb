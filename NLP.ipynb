{
  "nbformat": 4,
  "nbformat_minor": 0,
  "metadata": {
    "colab": {
      "provenance": [],
      "authorship_tag": "ABX9TyMRUfz95ZIYqXOODFkEplnr",
      "include_colab_link": true
    },
    "kernelspec": {
      "name": "python3",
      "display_name": "Python 3"
    },
    "language_info": {
      "name": "python"
    }
  },
  "cells": [
    {
      "cell_type": "markdown",
      "metadata": {
        "id": "view-in-github",
        "colab_type": "text"
      },
      "source": [
        "<a href=\"https://colab.research.google.com/github/Vivek0-b/DSBDA/blob/main/NLP.ipynb\" target=\"_parent\"><img src=\"https://colab.research.google.com/assets/colab-badge.svg\" alt=\"Open In Colab\"/></a>"
      ]
    },
    {
      "cell_type": "code",
      "execution_count": null,
      "metadata": {
        "id": "XK9C-r_4917_"
      },
      "outputs": [],
      "source": [
        "import nltk\n",
        "from nltk.tokenize import word_tokenize\n",
        "from nltk.corpus import stopwords\n",
        "from nltk.stem import PorterStemmer\n",
        "from nltk.stem import WordNetLemmatizer\n",
        "from nltk import pos_tag"
      ]
    },
    {
      "cell_type": "code",
      "source": [
        "nltk.download('punkt_tab')\n",
        "nltk.download('stopwords')\n",
        "nltk.download('averaged_perceptron_tagger')\n",
        "nltk.download('wordnet')\n",
        "nltk.download('averaged_perceptron_tagger_eng')"
      ],
      "metadata": {
        "colab": {
          "base_uri": "https://localhost:8080/"
        },
        "id": "99twzal4-J0N",
        "outputId": "92c6ac8b-f666-40f0-f8e6-a79c161dc1ad"
      },
      "execution_count": null,
      "outputs": [
        {
          "output_type": "stream",
          "name": "stderr",
          "text": [
            "[nltk_data] Downloading package punkt_tab to /root/nltk_data...\n",
            "[nltk_data]   Package punkt_tab is already up-to-date!\n",
            "[nltk_data] Downloading package stopwords to /root/nltk_data...\n",
            "[nltk_data]   Package stopwords is already up-to-date!\n",
            "[nltk_data] Downloading package averaged_perceptron_tagger to\n",
            "[nltk_data]     /root/nltk_data...\n",
            "[nltk_data]   Package averaged_perceptron_tagger is already up-to-\n",
            "[nltk_data]       date!\n",
            "[nltk_data] Downloading package wordnet to /root/nltk_data...\n",
            "[nltk_data]   Package wordnet is already up-to-date!\n",
            "[nltk_data] Downloading package averaged_perceptron_tagger_eng to\n",
            "[nltk_data]     /root/nltk_data...\n",
            "[nltk_data]   Unzipping taggers/averaged_perceptron_tagger_eng.zip.\n"
          ]
        },
        {
          "output_type": "execute_result",
          "data": {
            "text/plain": [
              "True"
            ]
          },
          "metadata": {},
          "execution_count": 18
        }
      ]
    },
    {
      "cell_type": "code",
      "source": [
        "text= \"Ham on Rye is a semi-autobiographical novel by Charles Bukowski that delves into the gritty and raw experiences of a young man named Henry Chinaski. Set against the backdrop of the Great Depression, the book explores themes of alienation, abuse, and the search for identity. With Bukowski's signature blunt and unapologetic style, Ham on Rye offers a poignant and unflinching portrayal of a troubled adolescence.\""
      ],
      "metadata": {
        "id": "ZdkSQhAH-RZT"
      },
      "execution_count": null,
      "outputs": []
    },
    {
      "cell_type": "code",
      "source": [
        "tokens = word_tokenize(text)"
      ],
      "metadata": {
        "id": "PHks0_O3-ktU"
      },
      "execution_count": null,
      "outputs": []
    },
    {
      "cell_type": "code",
      "source": [
        "print(\"Tokens: \", tokens)"
      ],
      "metadata": {
        "colab": {
          "base_uri": "https://localhost:8080/"
        },
        "id": "jFGVMi1A-8Nc",
        "outputId": "607c37af-5001-4957-ef46-1277e1fe3be7"
      },
      "execution_count": null,
      "outputs": [
        {
          "output_type": "stream",
          "name": "stdout",
          "text": [
            "Tokens:  ['Ham', 'on', 'Rye', 'is', 'a', 'semi-autobiographical', 'novel', 'by', 'Charles', 'Bukowski', 'that', 'delves', 'into', 'the', 'gritty', 'and', 'raw', 'experiences', 'of', 'a', 'young', 'man', 'named', 'Henry', 'Chinaski', '.', 'Set', 'against', 'the', 'backdrop', 'of', 'the', 'Great', 'Depression', ',', 'the', 'book', 'explores', 'themes', 'of', 'alienation', ',', 'abuse', ',', 'and', 'the', 'search', 'for', 'identity', '.', 'With', 'Bukowski', \"'s\", 'signature', 'blunt', 'and', 'unapologetic', 'style', ',', 'Ham', 'on', 'Rye', 'offers', 'a', 'poignant', 'and', 'unflinching', 'portrayal', 'of', 'a', 'troubled', 'adolescence', '.']\n"
          ]
        }
      ]
    },
    {
      "cell_type": "code",
      "source": [
        "stop_words = set(stopwords.words('english'))\n"
      ],
      "metadata": {
        "id": "2YaTVsSH_EEU"
      },
      "execution_count": null,
      "outputs": []
    },
    {
      "cell_type": "code",
      "source": [
        "filtered_tokens = [word for word in tokens if word.lower() not in stop_words]\n"
      ],
      "metadata": {
        "id": "NsLIH7wt_h1W"
      },
      "execution_count": null,
      "outputs": []
    },
    {
      "cell_type": "code",
      "source": [
        "print(\"Filtered Tokens (Stop words removed): \", filtered_tokens)"
      ],
      "metadata": {
        "colab": {
          "base_uri": "https://localhost:8080/"
        },
        "id": "bw6NjZPV_j92",
        "outputId": "db1107ab-b944-4cdd-f2f0-ee0def8c1ad4"
      },
      "execution_count": null,
      "outputs": [
        {
          "output_type": "stream",
          "name": "stdout",
          "text": [
            "Filtered Tokens (Stop words removed):  ['Ham', 'Rye', 'semi-autobiographical', 'novel', 'Charles', 'Bukowski', 'delves', 'gritty', 'raw', 'experiences', 'young', 'man', 'named', 'Henry', 'Chinaski', '.', 'Set', 'backdrop', 'Great', 'Depression', ',', 'book', 'explores', 'themes', 'alienation', ',', 'abuse', ',', 'search', 'identity', '.', 'Bukowski', \"'s\", 'signature', 'blunt', 'unapologetic', 'style', ',', 'Ham', 'Rye', 'offers', 'poignant', 'unflinching', 'portrayal', 'troubled', 'adolescence', '.']\n"
          ]
        }
      ]
    },
    {
      "cell_type": "code",
      "source": [
        "lemmatizer = WordNetLemmatizer()"
      ],
      "metadata": {
        "id": "CSlI0x6T_knN"
      },
      "execution_count": null,
      "outputs": []
    },
    {
      "cell_type": "code",
      "source": [
        "lemmatized_tokens = [lemmatizer.lemmatize(word) for word in filtered_tokens]\n"
      ],
      "metadata": {
        "id": "evgB5iPH_vHW"
      },
      "execution_count": null,
      "outputs": []
    },
    {
      "cell_type": "code",
      "source": [
        "print(\"Lemmatized Tokens: \", lemmatized_tokens)"
      ],
      "metadata": {
        "colab": {
          "base_uri": "https://localhost:8080/"
        },
        "id": "iqVolgwQ_w4-",
        "outputId": "b7bbafee-1497-435f-9426-98750797e62b"
      },
      "execution_count": null,
      "outputs": [
        {
          "output_type": "stream",
          "name": "stdout",
          "text": [
            "Lemmatized Tokens:  ['Ham', 'Rye', 'semi-autobiographical', 'novel', 'Charles', 'Bukowski', 'delf', 'gritty', 'raw', 'experience', 'young', 'man', 'named', 'Henry', 'Chinaski', '.', 'Set', 'backdrop', 'Great', 'Depression', ',', 'book', 'explores', 'theme', 'alienation', ',', 'abuse', ',', 'search', 'identity', '.', 'Bukowski', \"'s\", 'signature', 'blunt', 'unapologetic', 'style', ',', 'Ham', 'Rye', 'offer', 'poignant', 'unflinching', 'portrayal', 'troubled', 'adolescence', '.']\n"
          ]
        }
      ]
    },
    {
      "cell_type": "code",
      "source": [
        "stemmer = PorterStemmer()\n"
      ],
      "metadata": {
        "id": "eHgQhCUe_zkt"
      },
      "execution_count": null,
      "outputs": []
    },
    {
      "cell_type": "code",
      "source": [
        "stemmed_tokens = [stemmer.stem(word) for word in filtered_tokens]"
      ],
      "metadata": {
        "id": "CIk44JQIA3SA"
      },
      "execution_count": null,
      "outputs": []
    },
    {
      "cell_type": "code",
      "source": [
        "print(\"Stemmed Tokens: \", stemmed_tokens)"
      ],
      "metadata": {
        "colab": {
          "base_uri": "https://localhost:8080/"
        },
        "id": "_qI1pvTPA5AH",
        "outputId": "8612273a-2161-4d2d-e2e0-6d3ebf1753d6"
      },
      "execution_count": null,
      "outputs": [
        {
          "output_type": "stream",
          "name": "stdout",
          "text": [
            "Stemmed Tokens:  ['ham', 'rye', 'semi-autobiograph', 'novel', 'charl', 'bukowski', 'delv', 'gritti', 'raw', 'experi', 'young', 'man', 'name', 'henri', 'chinaski', '.', 'set', 'backdrop', 'great', 'depress', ',', 'book', 'explor', 'theme', 'alien', ',', 'abus', ',', 'search', 'ident', '.', 'bukowski', \"'s\", 'signatur', 'blunt', 'unapologet', 'style', ',', 'ham', 'rye', 'offer', 'poignant', 'unflinch', 'portray', 'troubl', 'adolesc', '.']\n"
          ]
        }
      ]
    },
    {
      "cell_type": "code",
      "source": [
        "pos_tags = pos_tag(tokens)\n"
      ],
      "metadata": {
        "id": "daVsBasLA6jK"
      },
      "execution_count": null,
      "outputs": []
    },
    {
      "cell_type": "code",
      "source": [
        "print(\"POS Tags: \", pos_tags)"
      ],
      "metadata": {
        "colab": {
          "base_uri": "https://localhost:8080/"
        },
        "id": "r7NvC9o6B9_L",
        "outputId": "eed00404-10ab-42a7-ef99-d8f5177b5aa4"
      },
      "execution_count": null,
      "outputs": [
        {
          "output_type": "stream",
          "name": "stdout",
          "text": [
            "POS Tags:  [('Ham', 'NNP'), ('on', 'IN'), ('Rye', 'NNP'), ('is', 'VBZ'), ('a', 'DT'), ('semi-autobiographical', 'JJ'), ('novel', 'NN'), ('by', 'IN'), ('Charles', 'NNP'), ('Bukowski', 'NNP'), ('that', 'WDT'), ('delves', 'VBZ'), ('into', 'IN'), ('the', 'DT'), ('gritty', 'NN'), ('and', 'CC'), ('raw', 'JJ'), ('experiences', 'NNS'), ('of', 'IN'), ('a', 'DT'), ('young', 'JJ'), ('man', 'NN'), ('named', 'VBN'), ('Henry', 'NNP'), ('Chinaski', 'NNP'), ('.', '.'), ('Set', 'NNP'), ('against', 'IN'), ('the', 'DT'), ('backdrop', 'NN'), ('of', 'IN'), ('the', 'DT'), ('Great', 'NNP'), ('Depression', 'NNP'), (',', ','), ('the', 'DT'), ('book', 'NN'), ('explores', 'VBZ'), ('themes', 'NNS'), ('of', 'IN'), ('alienation', 'NN'), (',', ','), ('abuse', 'NN'), (',', ','), ('and', 'CC'), ('the', 'DT'), ('search', 'NN'), ('for', 'IN'), ('identity', 'NN'), ('.', '.'), ('With', 'IN'), ('Bukowski', 'NNP'), (\"'s\", 'POS'), ('signature', 'NN'), ('blunt', 'NN'), ('and', 'CC'), ('unapologetic', 'JJ'), ('style', 'NN'), (',', ','), ('Ham', 'NNP'), ('on', 'IN'), ('Rye', 'NNP'), ('offers', 'VBZ'), ('a', 'DT'), ('poignant', 'NN'), ('and', 'CC'), ('unflinching', 'JJ'), ('portrayal', 'NN'), ('of', 'IN'), ('a', 'DT'), ('troubled', 'JJ'), ('adolescence', 'NN'), ('.', '.')]\n"
          ]
        }
      ]
    },
    {
      "cell_type": "code",
      "source": [],
      "metadata": {
        "id": "vCsHovhNCGna"
      },
      "execution_count": null,
      "outputs": []
    }
  ]
}